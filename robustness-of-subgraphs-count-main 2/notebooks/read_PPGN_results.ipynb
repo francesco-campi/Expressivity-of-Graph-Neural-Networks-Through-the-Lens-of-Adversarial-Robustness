{
 "cells": [
  {
   "cell_type": "code",
   "execution_count": 6,
   "metadata": {},
   "outputs": [
    {
     "data": {
      "application/vnd.jupyter.widget-view+json": {
       "model_id": "8bff732bf81b4bffbacce3a519928b7f",
       "version_major": 2,
       "version_minor": 0
      },
      "text/plain": [
       "  0%|          | 0/9 [00:00<?, ?it/s]"
      ]
     },
     "metadata": {},
     "output_type": "display_data"
    },
    {
     "data": {
      "application/vnd.jupyter.widget-view+json": {
       "model_id": "a9be1a041f1941b1a6d5475b4f87fa80",
       "version_major": 2,
       "version_minor": 0
      },
      "text/plain": [
       "  0%|          | 0/9 [00:00<?, ?it/s]"
      ]
     },
     "metadata": {},
     "output_type": "display_data"
    },
    {
     "name": "stderr",
     "output_type": "stream",
     "text": [
      "/home/francesco/miniconda3/envs/thesis/lib/python3.10/site-packages/seml/evaluation.py:80: FutureWarning: pandas.io.json.json_normalize is deprecated, use pandas.json_normalize instead.\n",
      "  parsed = pd.io.json.json_normalize(parsed, sep='.')\n"
     ]
    }
   ],
   "source": [
    "import seml\n",
    "import pandas as pd\n",
    "import matplotlib as mpl\n",
    "from matplotlib import pyplot as plt\n",
    "import seaborn as sns\n",
    "nodes = 50\n",
    "experiment_name = f'PPGN_train_50_er'\n",
    "results: pd.DataFrame = seml.get_results(experiment_name, to_data_frame=True)"
   ]
  },
  {
   "cell_type": "code",
   "execution_count": 8,
   "metadata": {},
   "outputs": [
    {
     "data": {
      "text/html": [
       "<div>\n",
       "<style scoped>\n",
       "    .dataframe tbody tr th:only-of-type {\n",
       "        vertical-align: middle;\n",
       "    }\n",
       "\n",
       "    .dataframe tbody tr th {\n",
       "        vertical-align: top;\n",
       "    }\n",
       "\n",
       "    .dataframe thead th {\n",
       "        text-align: right;\n",
       "    }\n",
       "</style>\n",
       "<table border=\"1\" class=\"dataframe\">\n",
       "  <thead>\n",
       "    <tr style=\"text-align: right;\">\n",
       "      <th></th>\n",
       "      <th>config.subgraph</th>\n",
       "      <th>result.l1_average</th>\n",
       "      <th>result.l1_std_average</th>\n",
       "      <th>result.l1_count_average</th>\n",
       "    </tr>\n",
       "  </thead>\n",
       "  <tbody>\n",
       "    <tr>\n",
       "      <th>0</th>\n",
       "      <td>g31</td>\n",
       "      <td>0.008491</td>\n",
       "      <td>0.001273</td>\n",
       "      <td>0.000425</td>\n",
       "    </tr>\n",
       "    <tr>\n",
       "      <th>1</th>\n",
       "      <td>g32</td>\n",
       "      <td>0.222578</td>\n",
       "      <td>0.002535</td>\n",
       "      <td>0.000419</td>\n",
       "    </tr>\n",
       "    <tr>\n",
       "      <th>2</th>\n",
       "      <td>g41</td>\n",
       "      <td>0.243562</td>\n",
       "      <td>0.432192</td>\n",
       "      <td>0.105899</td>\n",
       "    </tr>\n",
       "    <tr>\n",
       "      <th>3</th>\n",
       "      <td>g42</td>\n",
       "      <td>0.095305</td>\n",
       "      <td>0.011327</td>\n",
       "      <td>0.006207</td>\n",
       "    </tr>\n",
       "    <tr>\n",
       "      <th>4</th>\n",
       "      <td>g43</td>\n",
       "      <td>0.598649</td>\n",
       "      <td>0.006752</td>\n",
       "      <td>0.002530</td>\n",
       "    </tr>\n",
       "    <tr>\n",
       "      <th>5</th>\n",
       "      <td>g44</td>\n",
       "      <td>1.028270</td>\n",
       "      <td>0.006000</td>\n",
       "      <td>0.001551</td>\n",
       "    </tr>\n",
       "    <tr>\n",
       "      <th>6</th>\n",
       "      <td>g45</td>\n",
       "      <td>0.118009</td>\n",
       "      <td>0.005541</td>\n",
       "      <td>0.002052</td>\n",
       "    </tr>\n",
       "    <tr>\n",
       "      <th>7</th>\n",
       "      <td>g46</td>\n",
       "      <td>4.283910</td>\n",
       "      <td>0.009021</td>\n",
       "      <td>0.002185</td>\n",
       "    </tr>\n",
       "    <tr>\n",
       "      <th>8</th>\n",
       "      <td>s3</td>\n",
       "      <td>0.715198</td>\n",
       "      <td>0.002760</td>\n",
       "      <td>0.000782</td>\n",
       "    </tr>\n",
       "  </tbody>\n",
       "</table>\n",
       "</div>"
      ],
      "text/plain": [
       "  config.subgraph  result.l1_average  result.l1_std_average  \\\n",
       "0             g31           0.008491               0.001273   \n",
       "1             g32           0.222578               0.002535   \n",
       "2             g41           0.243562               0.432192   \n",
       "3             g42           0.095305               0.011327   \n",
       "4             g43           0.598649               0.006752   \n",
       "5             g44           1.028270               0.006000   \n",
       "6             g45           0.118009               0.005541   \n",
       "7             g46           4.283910               0.009021   \n",
       "8              s3           0.715198               0.002760   \n",
       "\n",
       "   result.l1_count_average  \n",
       "0                 0.000425  \n",
       "1                 0.000419  \n",
       "2                 0.105899  \n",
       "3                 0.006207  \n",
       "4                 0.002530  \n",
       "5                 0.001551  \n",
       "6                 0.002052  \n",
       "7                 0.002185  \n",
       "8                 0.000782  "
      ]
     },
     "metadata": {},
     "output_type": "display_data"
    }
   ],
   "source": [
    "display(results[[\"config.subgraph\", \"result.l1_average\",\"result.l1_std_average\", \"result.l1_count_average\"]])"
   ]
  }
 ],
 "metadata": {
  "kernelspec": {
   "display_name": "thesis",
   "language": "python",
   "name": "python3"
  },
  "language_info": {
   "codemirror_mode": {
    "name": "ipython",
    "version": 3
   },
   "file_extension": ".py",
   "mimetype": "text/x-python",
   "name": "python",
   "nbconvert_exporter": "python",
   "pygments_lexer": "ipython3",
   "version": "3.10.6"
  },
  "orig_nbformat": 4,
  "vscode": {
   "interpreter": {
    "hash": "1abaafd2707337529f841cf7e106570e99a51afd628e90281a63c8825a91f63b"
   }
  }
 },
 "nbformat": 4,
 "nbformat_minor": 2
}
