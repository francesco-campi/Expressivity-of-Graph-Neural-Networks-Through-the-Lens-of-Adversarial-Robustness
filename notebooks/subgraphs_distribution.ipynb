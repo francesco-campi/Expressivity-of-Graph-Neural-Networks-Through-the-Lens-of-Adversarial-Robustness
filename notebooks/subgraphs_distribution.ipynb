{
 "cells": [
  {
   "cell_type": "markdown",
   "metadata": {},
   "source": [
    "# Distribution of teh subgraphs\n",
    "\n",
    "In this notebook we superficially investigate teh distributions of the graphlests in graphs coming from different distributions. \n",
    "Moreover, we analyze how the permutation consisting in deletein and edge, creating it or both influance the distribution of the graphlets.  "
   ]
  },
  {
   "cell_type": "code",
   "execution_count": 1,
   "metadata": {},
   "outputs": [],
   "source": [
    "# imports\n",
    "import os\n",
    "import sys\n",
    "# add to the path the source files\n",
    "sys.path.append(os.path.dirname(os.getcwd()))\n",
    "\n",
    "from networkx.generators import random_regular_graph, gnp_random_graph\n",
    "import networkx as nx\n",
    "import matplotlib.pyplot as plt\n",
    "import numpy as np\n",
    "import pandas as pd\n",
    "\n",
    "from src.dataset.counting_algorithm import subgraph_counting, subgraph_counting_all, subgraph_listing_all\n",
    "from src.dataset.graph_permutation import GraphPermutation"
   ]
  },
  {
   "cell_type": "code",
   "execution_count": 2,
   "metadata": {},
   "outputs": [],
   "source": [
    "def print_statistics(vec, name):\n",
    "    graphlets = [f'g3_{i}' for i in range(1, 3)] + [f'g4_{i}' for i in range(1, 7)] + ['star']\n",
    "    print(\"##############################################################\")\n",
    "    print(f\"{name} of the counts:\")\n",
    "    print(\"##############################################################\")\n",
    "    print(pd.DataFrame(data = vec, index = [1], columns=graphlets))\n",
    "    print(\"\\n\")"
   ]
  },
  {
   "cell_type": "markdown",
   "metadata": {},
   "source": [
    "# Statistics of the counts\n",
    "\n",
    "Generate the synthetic dataset and then analythe the counts:\n",
    "- cont the substructure on the original graphs\n",
    "- we perform 3 types of perturbation: edge delition, addition and replacement and count the substructures.\n",
    "- compute the difference (absolute and relative) between the coutns of the original graphs and the counts of the perturbed ones.\n",
    "\n",
    "**Remark:** absolute and relative difference stands for respectively:\n",
    "- $|count_{original} - count_{perturbed}|$\n",
    "\n",
    "- $\\dfrac{|count_{original} - count_{perturbed}|}{count_{original}}$\n",
    "\n",
    "Of these difference we analyse the statistics by computing the mean and the variance."
   ]
  },
  {
   "cell_type": "code",
   "execution_count": 9,
   "metadata": {},
   "outputs": [
    {
     "name": "stdout",
     "output_type": "stream",
     "text": [
      "[ 24.  58.   9.  36.  51.  32.  24.  60. 183.]\n",
      "[ 1. 16.  0.  0.  2.  3.  0. 12.  5.]\n"
     ]
    }
   ],
   "source": [
    "m = 100 # size of the dataset\n",
    "n = 10 # size of the graphs\n",
    "p = 0.4 # probability of the edge creation\n",
    "d = 6\n",
    "\n",
    "\n",
    "graphs = []\n",
    "for i in range(m):\n",
    "    #graphs.append(random_regular_graph(n=n, d=d, seed = i))\n",
    "     graphs.append(gnp_random_graph(n=n, p=p, directed=False, seed = 2*i))\n",
    "\n",
    "# compute the statistics on the counts\n",
    "counts = np.zeros((m, 9)) # every colum contains all the counts for a specific graphlet\n",
    "for i, graph in enumerate(\n",
    "    graphs):\n",
    "    result = subgraph_counting_all(graph)\n",
    "    counts[i,:] = np.array(list(result.values()))\n",
    "\n",
    "mean = np.mean(counts, axis=0, keepdims = True)\n",
    "var = np.std(counts, axis = 0, keepdims = True)\n",
    "median = np.median(counts, axis=0, keepdims=True)\n",
    "print(np.max(counts, axis = 0))\n",
    "print(np.min(counts, axis=0))\n"
   ]
  },
  {
   "cell_type": "code",
   "execution_count": 10,
   "metadata": {},
   "outputs": [
    {
     "name": "stdout",
     "output_type": "stream",
     "text": [
      "##############################################################\n",
      "Mean of the counts:\n",
      "##############################################################\n",
      "   g3_1   g3_2  g4_1  g4_2   g4_3   g4_4  g4_5   g4_6   star\n",
      "1  7.37  34.97  0.75  7.38  22.62  12.23  5.95  35.73  52.61\n",
      "\n",
      "\n",
      "##############################################################\n",
      "Variance of the counts:\n",
      "##############################################################\n",
      "       g3_1      g3_2      g4_1      g4_2       g4_3      g4_4      g4_5  \\\n",
      "1  4.719439  8.668858  1.645448  7.487029  11.278103  5.823839  4.231725   \n",
      "\n",
      "        g4_6       star  \n",
      "1  10.892066  32.069579  \n",
      "\n",
      "\n",
      "##############################################################\n",
      "Median of the counts:\n",
      "##############################################################\n",
      "   g3_1  g3_2  g4_1  g4_2  g4_3  g4_4  g4_5  g4_6  star\n",
      "1   6.0  35.5   0.0   5.0  21.0  11.0   5.0  36.5  44.0\n",
      "\n",
      "\n"
     ]
    }
   ],
   "source": [
    "print_statistics(mean, \"Mean\")\n",
    "print_statistics(var, \"Variance\")\n",
    "print_statistics(median, \"Median\")"
   ]
  },
  {
   "cell_type": "markdown",
   "metadata": {},
   "source": [
    "Investigate if the counts remain almost constant after a permutation"
   ]
  },
  {
   "cell_type": "code",
   "execution_count": 5,
   "metadata": {},
   "outputs": [
    {
     "name": "stderr",
     "output_type": "stream",
     "text": [
      "/tmp/ipykernel_11175/2468502168.py:23: RuntimeWarning: invalid value encountered in divide\n",
      "  relative_dif_del = dif_del/counts\n",
      "/tmp/ipykernel_11175/2468502168.py:39: RuntimeWarning: divide by zero encountered in divide\n",
      "  relative_dif_add = dif_add/counts\n",
      "/tmp/ipykernel_11175/2468502168.py:39: RuntimeWarning: invalid value encountered in divide\n",
      "  relative_dif_add = dif_add/counts\n",
      "/tmp/ipykernel_11175/2468502168.py:56: RuntimeWarning: divide by zero encountered in divide\n",
      "  relative_dif_rep = dif_rep/counts\n",
      "/tmp/ipykernel_11175/2468502168.py:56: RuntimeWarning: invalid value encountered in divide\n",
      "  relative_dif_rep = dif_rep/counts\n"
     ]
    }
   ],
   "source": [
    "graph_permutation = GraphPermutation()\n",
    "#permutate with deletion\n",
    "del_graphs = []\n",
    "add_graphs = []\n",
    "rep_graphs = []\n",
    "for graph in graphs:\n",
    "    del_graphs.append(graph_permutation.edge_deletion(graph))\n",
    "    add_graphs.append(graph_permutation.edge_creation(graph))\n",
    "    rep_graphs.append(graph_permutation.edge_replacement(graph))\n",
    "\n",
    "# count the substructures\n",
    "\n",
    "###########################################\n",
    "############# Deleted #####################\n",
    "###########################################\n",
    "\n",
    "counts_del = np.zeros((m, 9)) # every colum contains all the counts for a specific graphlet\n",
    "for i, graph in enumerate(del_graphs):\n",
    "    result = subgraph_counting_all(graph)\n",
    "    counts_del[i,:] = np.array(list(result.values()))\n",
    "\n",
    "dif_del = np.abs(counts-counts_del)\n",
    "relative_dif_del = dif_del/counts\n",
    "mean_dif_del = np.mean(dif_del, axis=0, keepdims = True)\n",
    "relative_mean_dif_del = np.mean(relative_dif_del, axis=0, keepdims = True)\n",
    "var_dif_del = np.var(dif_del, axis = 0, keepdims = True)\n",
    "relative_var_diff_del = np.var(relative_dif_del, axis=0, keepdims=True)\n",
    "\n",
    "###########################################\n",
    "############# Created #####################\n",
    "###########################################\n",
    "\n",
    "counts_add = np.zeros((m, 9)) # every colum contains all the counts for a specific graphlet\n",
    "for i, graph in enumerate(add_graphs):\n",
    "    result = subgraph_counting_all(graph)\n",
    "    counts_add[i,:] = np.array(list(result.values()))\n",
    "\n",
    "dif_add = np.abs(counts-counts_add)\n",
    "relative_dif_add = dif_add/counts\n",
    "mean_dif_add = np.mean(dif_add, axis=0, keepdims = True)\n",
    "relative_mean_dif_add = np.mean(relative_dif_add, axis=0, keepdims = True)\n",
    "var_dif_add = np.var(dif_add, axis = 0, keepdims = True)\n",
    "relative_var_diff_add = np.var(relative_dif_add, axis=0, keepdims=True)\n",
    "\n",
    "\n",
    "###########################################\n",
    "############# Replaced #####################\n",
    "###########################################\n",
    "\n",
    "counts_rep = np.zeros((m, 9)) # every colum contains all the counts for a specific graphlet\n",
    "for i, graph in enumerate(rep_graphs):\n",
    "    result = subgraph_counting_all(graph)\n",
    "    counts_rep[i,:] = np.array(list(result.values()))\n",
    "\n",
    "dif_rep = np.abs(counts-counts_rep)\n",
    "relative_dif_rep = dif_rep/counts\n",
    "mean_dif_rep = np.mean(dif_rep, axis=0, keepdims = True)\n",
    "relative_mean_dif_rep = np.mean(relative_dif_rep, axis=0, keepdims = True)\n",
    "var_dif_rep = np.var(dif_rep, axis = 0, keepdims = True)\n",
    "relative_var_diff_rep = np.var(relative_dif_rep, axis=0, keepdims=True)"
   ]
  },
  {
   "cell_type": "code",
   "execution_count": 6,
   "metadata": {},
   "outputs": [
    {
     "name": "stdout",
     "output_type": "stream",
     "text": [
      "##############################################################\n",
      "Mean difference deleted of the counts:\n",
      "##############################################################\n",
      "   g3_1  g3_2  g4_1  g4_2   g4_3   g4_4  g4_5   g4_6   star\n",
      "1  1.08  7.79  0.11  2.32  12.91  12.48  3.54  35.34  29.53\n",
      "\n",
      "\n",
      "##############################################################\n",
      "Variance difference deleted of the counts:\n",
      "##############################################################\n",
      "     g3_1    g3_2    g4_1    g4_2     g4_3     g4_4    g4_5      g4_6  \\\n",
      "1  1.1336  7.5659  0.1779  9.2576  95.2819  80.0696  8.3684  216.4444   \n",
      "\n",
      "       star  \n",
      "1  294.9491  \n",
      "\n",
      "\n",
      "##############################################################\n",
      "Mean Relative difference deleted of the counts:\n",
      "##############################################################\n",
      "       g3_1      g3_2  g4_1      g4_2      g4_3      g4_4      g4_5      g4_6  \\\n",
      "1  0.032464  0.019753   NaN  0.053231  0.037111  0.027681  0.040757  0.026172   \n",
      "\n",
      "       star  \n",
      "1  0.032428  \n",
      "\n",
      "\n",
      "##############################################################\n",
      "Variance Relative difference deleteted of the counts:\n",
      "##############################################################\n",
      "       g3_1      g3_2  g4_1      g4_2      g4_3      g4_4      g4_5     g4_6  \\\n",
      "1  0.000926  0.000053   NaN  0.004837  0.000705  0.000385  0.000913  0.00014   \n",
      "\n",
      "       star  \n",
      "1  0.000297  \n",
      "\n",
      "\n"
     ]
    }
   ],
   "source": [
    "print_statistics(mean_dif_del, \"Mean difference deleted\")\n",
    "print_statistics(var_dif_del, \"Variance difference deleted\")\n",
    "print_statistics(relative_mean_dif_del, \"Mean Relative difference deleted\")\n",
    "print_statistics(relative_var_diff_del, \"Variance Relative difference deleteted\")\n"
   ]
  },
  {
   "cell_type": "code",
   "execution_count": 7,
   "metadata": {},
   "outputs": [
    {
     "name": "stdout",
     "output_type": "stream",
     "text": [
      "##############################################################\n",
      "Mean difference created of the counts:\n",
      "##############################################################\n",
      "   g3_1  g3_2  g4_1  g4_2   g4_3   g4_4  g4_5   g4_6   star\n",
      "1  0.98   8.1  0.09  1.86  12.61  12.84   4.2  36.82  28.61\n",
      "\n",
      "\n",
      "##############################################################\n",
      "Variance difference added of the counts:\n",
      "##############################################################\n",
      "     g3_1  g3_2    g4_1    g4_2     g4_3     g4_4  g4_5      g4_6      star\n",
      "1  0.7196  7.87  0.1019  4.7204  75.4379  96.7744   9.2  231.2676  203.2579\n",
      "\n",
      "\n",
      "##############################################################\n",
      "Mean Relative difference added of the counts:\n",
      "##############################################################\n",
      "       g3_1      g3_2  g4_1      g4_2      g4_3      g4_4      g4_5     g4_6  \\\n",
      "1  0.033427  0.020313   NaN  0.057262  0.039325  0.027644  0.047638  0.02666   \n",
      "\n",
      "       star  \n",
      "1  0.032054  \n",
      "\n",
      "\n",
      "##############################################################\n",
      "Variance Relative difference added of the counts:\n",
      "##############################################################\n",
      "       g3_1      g3_2  g4_1     g4_2      g4_3    g4_4      g4_5      g4_6  \\\n",
      "1  0.001285  0.000046   NaN  0.00626  0.000986  0.0004  0.001161  0.000108   \n",
      "\n",
      "       star  \n",
      "1  0.000205  \n",
      "\n",
      "\n"
     ]
    }
   ],
   "source": [
    "print_statistics(mean_dif_add, \"Mean difference created\")\n",
    "print_statistics(var_dif_add, \"Variance difference added\")\n",
    "print_statistics(relative_mean_dif_add, \"Mean Relative difference added\")\n",
    "print_statistics(relative_var_diff_add, \"Variance Relative difference added\")"
   ]
  },
  {
   "cell_type": "code",
   "execution_count": 8,
   "metadata": {},
   "outputs": [
    {
     "name": "stdout",
     "output_type": "stream",
     "text": [
      "##############################################################\n",
      "Mean difference Replaced of the counts:\n",
      "##############################################################\n",
      "   g3_1  g3_2  g4_1  g4_2   g4_3   g4_4  g4_5   g4_6   star\n",
      "1  1.09  3.04  0.21  2.75  10.41  11.13  3.17  15.85  17.34\n",
      "\n",
      "\n",
      "##############################################################\n",
      "Variance difference Replaced of the counts:\n",
      "##############################################################\n",
      "     g3_1    g3_2    g4_1    g4_2     g4_3     g4_4    g4_5      g4_6  \\\n",
      "1  0.8819  4.9384  0.2659  8.5675  58.5819  77.7531  9.8411  199.6675   \n",
      "\n",
      "       star  \n",
      "1  217.8044  \n",
      "\n",
      "\n",
      "##############################################################\n",
      "Mean relative difference Replaced of the counts:\n",
      "##############################################################\n",
      "       g3_1      g3_2  g4_1      g4_2      g4_3      g4_4      g4_5      g4_6  \\\n",
      "1  0.034889  0.007587   NaN  0.071282  0.032422  0.024321  0.035796  0.011788   \n",
      "\n",
      "       star  \n",
      "1  0.019092  \n",
      "\n",
      "\n",
      "##############################################################\n",
      "Variance Relative difference repalced of the counts:\n",
      "##############################################################\n",
      "       g3_1     g3_2  g4_1     g4_2      g4_3      g4_4      g4_5      g4_6  \\\n",
      "1  0.001096  0.00003   NaN  0.00715  0.000736  0.000387  0.001281  0.000104   \n",
      "\n",
      "       star  \n",
      "1  0.000239  \n",
      "\n",
      "\n"
     ]
    }
   ],
   "source": [
    "print_statistics(mean_dif_rep, \"Mean difference Replaced\")\n",
    "print_statistics(var_dif_rep, \"Variance difference Replaced\")\n",
    "print_statistics(relative_mean_dif_rep, \"Mean relative difference Replaced\")\n",
    "print_statistics(relative_var_diff_rep, \"Variance Relative difference repalced\")"
   ]
  },
  {
   "cell_type": "markdown",
   "metadata": {},
   "source": [
    "# Progressive deletion\n",
    "\n",
    "Behaviour of the count of a specific substructure after progressive deletion of an edge until the graphs has only disconnected nodes."
   ]
  },
  {
   "cell_type": "code",
   "execution_count": 9,
   "metadata": {},
   "outputs": [
    {
     "data": {
      "text/plain": [
       "[<matplotlib.lines.Line2D at 0x7f2a4ef48190>]"
      ]
     },
     "execution_count": 9,
     "metadata": {},
     "output_type": "execute_result"
    },
    {
     "data": {
      "image/png": "[encoded data removed]",
      "text/plain": [
       "<Figure size 640x480 with 1 Axes>"
      ]
     },
     "metadata": {},
     "output_type": "display_data"
    }
   ],
   "source": [
    "n = 30\n",
    "p = 0.4\n",
    "subgraph_type = 'g31'\n",
    "\n",
    "graph = gnp_random_graph(n=n, p=p, directed=False, seed = 3)\n",
    "num_edges = len(list(nx.edges(graph)))\n",
    "counts = [subgraph_counting(graph, subgraph_type)]\n",
    "for i in range(num_edges):\n",
    "    graph = graph_permutation.edge_deletion(graph)\n",
    "    counts.append(subgraph_counting(graph, subgraph_type))\n",
    "#plot the results\n",
    "x = list(range(0, num_edges +1))\n",
    "plt.plot(x, counts)"
   ]
  },
  {
   "cell_type": "markdown",
   "metadata": {},
   "source": [
    "# Distribution of a graphlet\n",
    "\n",
    "Distribution of the counts of a graphlet across different graphs coming from the same distribution."
   ]
  },
  {
   "cell_type": "code",
   "execution_count": 10,
   "metadata": {},
   "outputs": [
    {
     "data": {
      "text/plain": [
       "(array([ 4.,  3.,  7., 23., 27., 37., 51., 58., 70., 72., 82., 81., 93.,\n",
       "        53., 58., 41., 51., 39., 28., 31., 23., 16., 15., 15.,  5.,  2.,\n",
       "         2.,  3.,  3.,  1.,  1.,  2.,  1.,  0.,  1.,  0.,  0.,  0.,  0.,\n",
       "         1.]),\n",
       " array([ 8.   ,  9.975, 11.95 , 13.925, 15.9  , 17.875, 19.85 , 21.825,\n",
       "        23.8  , 25.775, 27.75 , 29.725, 31.7  , 33.675, 35.65 , 37.625,\n",
       "        39.6  , 41.575, 43.55 , 45.525, 47.5  , 49.475, 51.45 , 53.425,\n",
       "        55.4  , 57.375, 59.35 , 61.325, 63.3  , 65.275, 67.25 , 69.225,\n",
       "        71.2  , 73.175, 75.15 , 77.125, 79.1  , 81.075, 83.05 , 85.025,\n",
       "        87.   ]),\n",
       " <BarContainer object of 40 artists>)"
      ]
     },
     "execution_count": 10,
     "metadata": {},
     "output_type": "execute_result"
    },
    {
     "data": {
      "image/png": "[encoded data removed]",
      "text/plain": [
       "<Figure size 640x480 with 1 Axes>"
      ]
     },
     "metadata": {},
     "output_type": "display_data"
    }
   ],
   "source": [
    "subgraph_size = 4\n",
    "subgraph_id = 2\n",
    "\n",
    "n = 30\n",
    "p = 0.2\n",
    "m = 1000 # number of generated graphs\n",
    "counts = []\n",
    "for i in range(m):\n",
    "    graph = gnp_random_graph(n=n, p=p, directed=False)\n",
    "    counts.append(subgraph_counting(graph, subgraph_type))\n",
    "\n",
    "#plot the results\n",
    "plt.hist(counts, bins=40)"
   ]
  },
  {
   "cell_type": "markdown",
   "metadata": {},
   "source": [
    "## Lipscitz constant of graph perturbations\n",
    "\n",
    "How much can change the subgraph count after a single edge perturbation. (worse case)"
   ]
  },
  {
   "cell_type": "code",
   "execution_count": 3,
   "metadata": {},
   "outputs": [
    {
     "name": "stderr",
     "output_type": "stream",
     "text": [
      "100%|████████████████████████████████████████████████████████████████████████████████████████████████████████████████████████████████████████████████████████████████████████████| 100/100 [36:38<00:00, 21.98s/it]"
     ]
    },
    {
     "name": "stdout",
     "output_type": "stream",
     "text": [
      "Lipschitz constant\n"
     ]
    },
    {
     "name": "stderr",
     "output_type": "stream",
     "text": [
      "\n"
     ]
    },
    {
     "data": {
      "text/plain": [
       "{'Triangle': 7,\n",
       " '2-Path': 17,\n",
       " '4-Clique': 6,\n",
       " 'Chordal cycle': 19,\n",
       " 'Tailed triangle': 55,\n",
       " '3-Star': 70,\n",
       " '4-Cycle': 16,\n",
       " '3-Path': 92}"
      ]
     },
     "metadata": {},
     "output_type": "display_data"
    },
    {
     "name": "stdout",
     "output_type": "stream",
     "text": [
      "Count preserving\n"
     ]
    },
    {
     "data": {
      "text/plain": [
       "{'Triangle': 205.32,\n",
       " '2-Path': 1.69,\n",
       " '4-Clique': 410.93,\n",
       " 'Chordal cycle': 244.04,\n",
       " 'Tailed triangle': 27.94,\n",
       " '3-Star': 12.24,\n",
       " '4-Cycle': 88.98,\n",
       " '3-Path': 1.64}"
      ]
     },
     "metadata": {},
     "output_type": "display_data"
    },
    {
     "name": "stdout",
     "output_type": "stream",
     "text": [
      "Substructures preserving\n"
     ]
    },
    {
     "data": {
      "text/plain": [
       "{'Triangle': 205.32,\n",
       " '2-Path': 0.02,\n",
       " '4-Clique': 410.93,\n",
       " 'Chordal cycle': 241.82,\n",
       " 'Tailed triangle': 27.62,\n",
       " '3-Star': 1.6,\n",
       " '4-Cycle': 74.34,\n",
       " '3-Path': 0.62}"
      ]
     },
     "metadata": {},
     "output_type": "display_data"
    }
   ],
   "source": [
    "from copy import deepcopy\n",
    "from tqdm import tqdm\n",
    "import dgl\n",
    "\n",
    "import networkx as nx\n",
    "def generate_egonet(graph: nx.Graph, root: int, depth: int):\n",
    "    \"\"\"Generates an egonet of given depth starting from the root node\"\"\"\n",
    "    # to generate the egonet we look for neighbours iteratively\n",
    "    graph_copy = deepcopy(graph)\n",
    "    egonet = [root]\n",
    "    neighbors = [root]\n",
    "    visited = {root} # here we need to search for an element\n",
    "    for i in range(depth):\n",
    "        queue = neighbors\n",
    "        neighbors = []\n",
    "        for node in queue:\n",
    "            for neighbor in graph_copy.neighbors(node):\n",
    "                if neighbor not in visited:\n",
    "                    visited.add(neighbor)\n",
    "                    neighbors.append(neighbor)\n",
    "        if neighbors == []:\n",
    "            break\n",
    "        egonet.extend(neighbors)\n",
    "    return egonet\n",
    "\n",
    "dgl_graphs, counts = dgl.load_graphs(\"/nfs/students/campi/dataset/training/test_5000_sbm_30.bin\")\n",
    "graphs = []\n",
    "for i in range(100):\n",
    "    graphs.append(nx.Graph(dgl.to_networkx(dgl_graphs[i])))\n",
    "\n",
    "#subgraphs = list(counts.keys())\n",
    "subgraphs = ['Triangle',  '2-Path', '4-Clique', 'Chordal cycle', 'Tailed triangle', '3-Star', '4-Cycle', '3-Path']\n",
    "changes = {}\n",
    "preserving = {}\n",
    "sub_preserving = {}\n",
    "for subgraph in subgraphs:\n",
    "    changes[subgraph] = []\n",
    "    preserving[subgraph] = 0\n",
    "    sub_preserving[subgraph] = 0\n",
    "\n",
    "\n",
    "\n",
    "#analyze all possible perturbations\n",
    "for graph in tqdm(graphs):\n",
    "    count = subgraph_counting_all(graph=graph)\n",
    "    for edge in nx.edges(graph):\n",
    "        perturbed_graph = deepcopy(graph)\n",
    "        perturbed_graph.remove_edge(*edge)\n",
    "        # recompute the substructure coutns of the perturbed graph\n",
    "        egonet = generate_egonet(graph, edge[0], 2)\n",
    "        subgraph = graph.subgraph(egonet)\n",
    "        subgraph_count = subgraph_counting_all(graph=subgraph)\n",
    "        subgraphs_list = subgraph_listing_all(graph=subgraph)\n",
    "        perturbed_subgraph = perturbed_graph.subgraph(egonet)\n",
    "        perturbed_subgraph_count =  subgraph_counting_all(graph=perturbed_subgraph)\n",
    "        perturbed_subgraphs_list = subgraph_listing_all(graph=perturbed_subgraph)\n",
    "        for subgraph in subgraphs:\n",
    "            changes[subgraph].append(abs(perturbed_subgraph_count[subgraph] - subgraph_count[subgraph]))\n",
    "            preserving[subgraph] += perturbed_subgraph_count[subgraph] == subgraph_count[subgraph]\n",
    "            sub_preserving[subgraph] += perturbed_subgraphs_list[subgraph] == subgraphs_list[subgraph]\n",
    "    \n",
    "    for edge in nx.non_edges(graph):\n",
    "        perturbed_graph = deepcopy(graph)\n",
    "        perturbed_graph.add_edge(*edge)\n",
    "        # recompute the substructure coutns of the perturbed graph\n",
    "        egonet = generate_egonet(perturbed_graph, edge[0], 3)\n",
    "        subgraph = graph.subgraph(egonet)\n",
    "        subgraph_count = subgraph_counting_all(graph=subgraph)\n",
    "        subgraphs_list = subgraph_listing_all(graph=subgraph)\n",
    "        perturbed_subgraph = perturbed_graph.subgraph(egonet)\n",
    "        perturbed_subgraph_count =  subgraph_counting_all(graph=perturbed_subgraph)\n",
    "        perturbed_subgraphs_list = subgraph_listing_all(graph=perturbed_subgraph)\n",
    "        for subgraph in subgraphs:\n",
    "            changes[subgraph].append(abs(perturbed_subgraph_count[subgraph] - subgraph_count[subgraph]))\n",
    "            preserving[subgraph] += perturbed_subgraph_count[subgraph] == subgraph_count[subgraph]\n",
    "            sub_preserving[subgraph] += perturbed_subgraphs_list[subgraph] == subgraphs_list[subgraph]\n",
    "\n",
    "for i, subgraph in enumerate(subgraphs):\n",
    "    changes[subgraph] = max(changes[subgraph])\n",
    "    preserving[subgraph] = preserving[subgraph]/len(graphs)\n",
    "    sub_preserving[subgraph] = sub_preserving[subgraph]/len(graphs)\n",
    "\n",
    "print('Lipschitz constant')\n",
    "display(changes)\n",
    "print('Count preserving')\n",
    "display(preserving)\n",
    "print('Substructures preserving')\n",
    "display(sub_preserving)"
   ]
  },
  {
   "cell_type": "code",
   "execution_count": null,
   "metadata": {},
   "outputs": [],
   "source": []
  }
 ],
 "metadata": {
  "kernelspec": {
   "display_name": "Python 3 (ipykernel)",
   "language": "python",
   "name": "python3"
  },
  "language_info": {
   "codemirror_mode": {
    "name": "ipython",
    "version": 3
   },
   "file_extension": ".py",
   "mimetype": "text/x-python",
   "name": "python",
   "nbconvert_exporter": "python",
   "pygments_lexer": "ipython3",
   "version": "3.7.13"
  },
  "vscode": {
   "interpreter": {
    "hash": "1abaafd2707337529f841cf7e106570e99a51afd628e90281a63c8825a91f63b"
   }
  }
 },
 "nbformat": 4,
 "nbformat_minor": 4
}
